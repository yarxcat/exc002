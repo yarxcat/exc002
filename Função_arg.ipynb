{
  "nbformat": 4,
  "nbformat_minor": 0,
  "metadata": {
    "colab": {
      "name": "Função*arg.ipynb",
      "provenance": [],
      "authorship_tag": "ABX9TyOrcnGZhDVACo9QQqvuvGeE",
      "include_colab_link": true
    },
    "kernelspec": {
      "name": "python3",
      "display_name": "Python 3"
    },
    "language_info": {
      "name": "python"
    }
  },
  "cells": [
    {
      "cell_type": "markdown",
      "metadata": {
        "id": "view-in-github",
        "colab_type": "text"
      },
      "source": [
        "<a href=\"https://colab.research.google.com/github/yarxcat/python_exercicios2/blob/main/Fun%C3%A7%C3%A3o_arg.ipynb\" target=\"_parent\"><img src=\"https://colab.research.google.com/assets/colab-badge.svg\" alt=\"Open In Colab\"/></a>"
      ]
    },
    {
      "cell_type": "code",
      "execution_count": 1,
      "metadata": {
        "colab": {
          "base_uri": "https://localhost:8080/"
        },
        "id": "YjAzdDob7YJv",
        "outputId": "9194e604-68fd-4d2f-f8f1-d2f24620140b"
      },
      "outputs": [
        {
          "output_type": "stream",
          "name": "stdout",
          "text": [
            "18\n"
          ]
        }
      ],
      "source": [
        "#function (funçoes)\n",
        "  #DRY - Don´t repeat yourself\n",
        "    #Varios argumentos (xargs)\n",
        "\n",
        "#criando uma função que soma varios numeros\n",
        " \n",
        "def soma(*numeros):      #parametro '*' numeros, permite passar varios parametros.\n",
        "  resultado = 0          #ponto de partida para a nossa soma\n",
        "\n",
        "  for num in numeros:    #loop for para somar cada numero passado\n",
        "    resultado += num     # soma cada numero ao proximo, começando do 0\n",
        "\n",
        "  return resultado       #retorna o valor da soma \"resultado\"\n",
        "\n",
        "x = soma(2, 4, 5, 7)     # define uma variavel e chama a funçao\n",
        "\n",
        "print(x)                 # imprime o valor de x na tela\n"
      ]
    },
    {
      "cell_type": "code",
      "source": [
        "#function (funçoes)\n",
        "  #DRY - Don´t repeat yourself\n",
        "    #Varios argumentos (xargs) identificando o parametro\n",
        "\n",
        "#criando uma função que armazena numeros e strings (dados)\n",
        "\n",
        "def agencia(**carros):    #o parametro '**' carros, permite que futuramente varis parametros sejam definidos sem alterar a funçao original\n",
        "  return carros           # retorna os valores do carro \n",
        "\n",
        "carro1 = agencia(marca = 'Gol', cor = 'Preto', ano = 2000, placa = 1234)  #na variavel carro1 definimos 4 parametros e imprimimos eles na linha 11\n",
        "print(carro1)                                                             #podemos adicionar quantos parametros quiser.. n mudara a função original\n",
        "\n",
        "carro2 = agencia(marca = 'Fiat', cor = 'azul', ano = 2002)                # variavel carro2 com 3 parametros\n",
        "print(carro2)                                                             # os valores são imprimidos em uma especie de dicionario\n",
        "\n",
        "carro3 = agencia(marca ='Nissan', ano = 2020)                             # variavel carro3 com 3 parametros.. podemos criar inumeras variaveis\n",
        "print(carro3)                                       \n",
        "        "
      ],
      "metadata": {
        "colab": {
          "base_uri": "https://localhost:8080/"
        },
        "id": "VzL2qVLG_1Gw",
        "outputId": "dafa1485-be88-422c-d283-24198d89020c"
      },
      "execution_count": 4,
      "outputs": [
        {
          "output_type": "stream",
          "name": "stdout",
          "text": [
            "{'marca': 'Gol', 'cor': 'Preto', 'ano': 2000, 'placa': 1234}\n",
            "{'marca': 'Fiat', 'cor': 'azul', 'ano': 2002}\n",
            "{'marca': 'Nissan', 'ano': 2020}\n"
          ]
        }
      ]
    }
  ]
}